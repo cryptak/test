{
  "nbformat": 4,
  "nbformat_minor": 0,
  "metadata": {
    "colab": {
      "name": "progateでやったじゃんけん.ipynb",
      "version": "0.3.2",
      "provenance": [],
      "include_colab_link": true
    },
    "kernelspec": {
      "name": "python3",
      "display_name": "Python 3"
    }
  },
  "cells": [
    {
      "cell_type": "markdown",
      "metadata": {
        "id": "view-in-github",
        "colab_type": "text"
      },
      "source": [
        "<a href=\"https://colab.research.google.com/github/cryptak/test/blob/master/progate%E3%81%A7%E3%82%84%E3%81%A3%E3%81%9F%E3%81%98%E3%82%83%E3%82%93%E3%81%91%E3%82%93.ipynb\" target=\"_parent\"><img src=\"https://colab.research.google.com/assets/colab-badge.svg\" alt=\"Open In Colab\"/></a>"
      ]
    },
    {
      "metadata": {
        "id": "58aMOKeMS11G",
        "colab_type": "code",
        "colab": {
          "base_uri": "https://localhost:8080/",
          "height": 107
        },
        "outputId": "c3d7b2e4-3f8f-4b7b-9e79-b449743f5e24"
      },
      "cell_type": "code",
      "source": [
        "import random\n",
        "hands = ['グー', 'チョキ', 'パー']\n",
        "\n",
        "def judge(player, computer):#勝敗を決める\n",
        "  if computer == player : return '引き分け' #同じなら引き分け\n",
        "  if computer == 0 : computer = 3 #computerのグーを3にする, playerのパーに負ける用\n",
        "  if computer - player == 1 : return '勝ち'\n",
        "  else : return '負け'\n",
        "\n",
        "player_hand = int(input('0:グー, 1:チョキ, 2:パー\\n数字を入力してください:'))\n",
        "print(hands[player_hand])\n",
        "computer_hand = random.randint(0,2)\n",
        "print(hands[computer_hand])\n",
        "print(judge(player_hand,computer_hand))"
      ],
      "execution_count": 16,
      "outputs": [
        {
          "output_type": "stream",
          "text": [
            "0:グー, 1:チョキ, 2:パー\n",
            "数字を入力してください:1\n",
            "チョキ\n",
            "グー\n",
            "負け\n"
          ],
          "name": "stdout"
        }
      ]
    }
  ]
}