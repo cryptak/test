{
  "nbformat": 4,
  "nbformat_minor": 0,
  "metadata": {
    "colab": {
      "name": "getNikkeiAve1.ipynb",
      "version": "0.3.2",
      "provenance": [],
      "include_colab_link": true
    },
    "kernelspec": {
      "name": "python2",
      "display_name": "Python 2"
    }
  },
  "cells": [
    {
      "cell_type": "markdown",
      "metadata": {
        "id": "view-in-github",
        "colab_type": "text"
      },
      "source": [
        "<a href=\"https://colab.research.google.com/github/cryptak/test/blob/master/getNikkeiAve1.ipynb\" target=\"_parent\"><img src=\"https://colab.research.google.com/assets/colab-badge.svg\" alt=\"Open In Colab\"/></a>"
      ]
    },
    {
      "metadata": {
        "id": "2ffo_0a8p46b",
        "colab_type": "code",
        "colab": {
          "base_uri": "https://localhost:8080/",
          "height": 53
        },
        "outputId": "fbee1506-4552-447b-cbca-ad72cf8ac6a5"
      },
      "cell_type": "code",
      "source": [
        "#$ pip install beautifulsoup4 #アクセスして取得したファイルを開くxmlパーサー的なもの, csvファイルを操作する時に必要なライブラリ\n",
        "\n",
        "import urllib2 #URLにアクセスするために必要\n",
        "from bs4 import BeautifulSoup\n",
        "\n",
        "url = \"http://www.nikkei.com/\" #アクセスするURL\n",
        "\n",
        "html = urllib2.urlopen(url) #HTMLを扱う\n",
        "\n",
        "soup = BeautifulSoup(html, \"html.parser\") #htmlをBeautifulSoupで扱う\n",
        "\n",
        "title_tag = soup.title #タイトル要素を取得する\n",
        "\n",
        "title = title_tag.string #要素の文字要素を取得する\n",
        "\n",
        "print title_tag\n",
        "\n",
        "print title"
      ],
      "execution_count": 4,
      "outputs": [
        {
          "output_type": "stream",
          "text": [
            "<title>経済、株価、ビジネス、政治のニュース:日経電子版</title>\n",
            "経済、株価、ビジネス、政治のニュース:日経電子版\n"
          ],
          "name": "stdout"
        }
      ]
    }
  ]
}