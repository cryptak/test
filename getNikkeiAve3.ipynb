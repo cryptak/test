{
  "nbformat": 4,
  "nbformat_minor": 0,
  "metadata": {
    "colab": {
      "name": "getNikkeiAve3.ipynb",
      "version": "0.3.2",
      "provenance": [],
      "include_colab_link": true
    },
    "kernelspec": {
      "name": "python2",
      "display_name": "Python 2"
    }
  },
  "cells": [
    {
      "cell_type": "markdown",
      "metadata": {
        "id": "view-in-github",
        "colab_type": "text"
      },
      "source": [
        "<a href=\"https://colab.research.google.com/github/cryptak/test/blob/master/getNikkeiAve3.ipynb\" target=\"_parent\"><img src=\"https://colab.research.google.com/assets/colab-badge.svg\" alt=\"Open In Colab\"/></a>"
      ]
    },
    {
      "metadata": {
        "id": "2ffo_0a8p46b",
        "colab_type": "code",
        "outputId": "467a2032-2a50-40ba-9988-eb889cb59a5e",
        "colab": {
          "base_uri": "https://localhost:8080/",
          "height": 35
        }
      },
      "cell_type": "code",
      "source": [
        "#$ pip install beautifulsoup4 #アクセスして取得したファイルを開くxmlパーサー的なもの, csvファイルを操作する時に必要なライブラリ\n",
        "\n",
        "import urllib2 #URLにアクセスするために必要\n",
        "from bs4 import BeautifulSoup\n",
        "\n",
        "url = \"http://www.nikkei.com/markets/kabu/\" #アクセスするURL\n",
        "\n",
        "html = urllib2.urlopen(url) #HTMLを扱う\n",
        "\n",
        "soup = BeautifulSoup(html, \"html.parser\") #htmlをBeautifulSoupで扱う\n",
        "\n",
        "span = soup.find_all(\"span\") #spanの要素をすべて抽出\n",
        "#欲しいのはclass=\"mkc-stock_prices\"\n",
        "\n",
        "nikkei_heikin = \"\" #print時にエラーが起きないよう初期値を決めておく\n",
        "\n",
        "for tag in span:#全てのspanの中から参照する, ループでそれぞれ参照している間はそれぞれのspanを変数tagに格納\n",
        "  #classの設定がされていない要素は、tag.get(\"class\").pop(0)を行うことのできないでエラーとなるため、tryでエラーを回避する\n",
        "  #tryとは\n",
        "  #Pythonで例外（実行中に検出されたエラー）をキャッチして処理するにはtry, exceptを使う。例外が発生しても途中で終了させずに処理を継続できる。\n",
        "  #tryの中でexpectで指定されたエラーが起きた場合、expect:以下のコードが実行される\n",
        "  #expect:ですべてのエラーを回収できる\n",
        "  \n",
        "\n",
        "  try:\n",
        "    # tagの中からclass=\"n\"のnの文字列を摘出します。\n",
        "    # 複数classが設定されている場合があるのでget関数では配列で帰ってくる。\n",
        "    # そのため配列の関数pop(0)により、配列の一番最初を摘出する\n",
        "    # <span class=\"hoge\" class=\"foo\">  →   [\"hoge\",\"foo\"]  →   hoge\n",
        "    string_ = tag.get(\"class\").pop(0)\n",
        "    \n",
        "    # 摘出したclassの文字列にmkc-stock_pricesと設定されているかを調べます\n",
        "    if string_ in \"mkc-stock_prices\":#if inで文字/要素があるか調べられる\n",
        "      # mkc-stock_pricesが設定されているのでtagで囲まれた文字列を.stringであぶり出します\n",
        "      nikkei_heikin = tag.string\n",
        "      break #摘出が終わったのでforを抜ける\n",
        "  except:\n",
        "    pass #何も行わない\n",
        "\n",
        "# 摘出した結果と時間を出力\n",
        "print (nikkei_heikin)"
      ],
      "execution_count": 8,
      "outputs": [
        {
          "output_type": "stream",
          "text": [
            "22,243.66\n"
          ],
          "name": "stdout"
        }
      ]
    }
  ]
}